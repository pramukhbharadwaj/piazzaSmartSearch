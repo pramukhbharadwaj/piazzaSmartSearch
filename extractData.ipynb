{
 "cells": [
  {
   "cell_type": "code",
   "execution_count": 1,
   "metadata": {},
   "outputs": [],
   "source": [
    "import json\n",
    "import time\n",
    "import datetime\n",
    "import dateutil.parser\n",
    "from datetime import datetime\n",
    "import pandas as pd"
   ]
  },
  {
   "cell_type": "code",
   "execution_count": 15,
   "metadata": {},
   "outputs": [],
   "source": [
    "# def isEndorsedByStaff(endorsements):\n",
    "#     for endorsement in endorsements:\n",
    "#         if 'role' in endorsement and ('professor' in endorsement['role'] or 'instructor' in endorsement['role'] or 'ta' in endorsement['role']):\n",
    "#             return True\n",
    "    \n",
    "# def checkValidAnswer(post):\n",
    "#     return ('i_answer' in post['type']) or ('tag_endorse' in post and isEndorsedByStaff(post['tag_endorse']))\n",
    "\n",
    "def getAnswerList(post):\n",
    "    answerList = []\n",
    "    if('children' in post):\n",
    "        postAnswers = post['children']\n",
    "        for postAnswer in postAnswers:\n",
    "            #whoAnswered = ''\n",
    "            answer = ''\n",
    "            if 'type' in postAnswer and 'history' in postAnswer and 'subject' not in postAnswer['history']:\n",
    "                whoAnswered = postAnswer['type']\n",
    "                #last_modified = postAnswer['history'][len(postAnswer['history']) - 1]\n",
    "                last_modified = getLastModified(postAnswer)\n",
    "                answer = last_modified['content']\n",
    "                answerToWhoAnswered = (answer, whoAnswered)\n",
    "                answerList.append(answerToWhoAnswered)\n",
    "            elif 'type' in postAnswer and 'followup' in postAnswer['type']:\n",
    "                question = postAnswer['subject']\n",
    "                whoAsked = 'followup_question'\n",
    "                questionToWhoAsked = (question, whoAsked)\n",
    "                answerList.append(questionToWhoAsked)\n",
    "                if 'children' in postAnswer:\n",
    "                    followup_question_answers = postAnswer['children']\n",
    "                    for i in range(0, len(followup_question_answers)):\n",
    "                        whoAnswered = followup_question_answers[i]['type']\n",
    "                        answer = followup_question_answers[i]['subject']\n",
    "                        answerToWhoAnswered = (answer, whoAnswered)\n",
    "                        answerList.append(answerToWhoAnswered)\n",
    "                        \n",
    "    return answerList\n",
    "\n",
    "def getLastModified(post):\n",
    "    history = post['history']\n",
    "    last_modified_answer = history[0]\n",
    "    last_modified_datetime = dateutil.parser.parse(history[0]['created'])\n",
    "    for i in range(0, len(history)):\n",
    "        post_datetime = dateutil.parser.parse(history[i]['created'])\n",
    "        if(post_datetime > last_modified_datetime):\n",
    "            last_modified_datetime = post_date\n",
    "            last_modified_answer = history[i]\n",
    "            \n",
    "    return last_modified_answer\n",
    "\n",
    "def extractData(filename):\n",
    "    with open(filename, 'r') as openfile:\n",
    "        input = json.load(openfile)\n",
    "        #print(input)\n",
    "        df = pd.DataFrame(columns = ['Post','Link','Sentence','WhoAnswered'])\n",
    "        for i in range(0, len(input)):\n",
    "            post = input[i]\n",
    "            if 'history' in post:\n",
    "                last_modified = getLastModified(post)\n",
    "                if 'subject' in last_modified and 'content' in last_modified and '<img' not in last_modified['content']:\n",
    "                    subject = last_modified['subject']\n",
    "                    content = last_modified['content']\n",
    "                    post_ID = post['nr']\n",
    "                    question_link = post['question_link']\n",
    "                    answerList = getAnswerList(input[i])\n",
    "                    df = df.append({'Post': post_ID, 'Link': question_link,'Sentence': subject + \".\" + content, 'WhoAnswered': 'question'}, ignore_index = True)  \n",
    "                    for i in range(0, len(answerList)):\n",
    "                        df = df.append({'Post': post_ID, 'Link': question_link,'Sentence': answerList[i][0], 'WhoAnswered': answerList[i][1]}, ignore_index = True)\n",
    "\n",
    "        return df\n",
    "#     for i in range(0, len(df)):\n",
    "#         print(\"Post: \"+str(int(df.iloc[i]['Post'])))\n",
    "#         print(\"Sentence: \"+df.iloc[i]['Sentence'])\n"
   ]
  },
  {
   "cell_type": "code",
   "execution_count": 17,
   "metadata": {},
   "outputs": [],
   "source": [
    "#usage\n",
    "#final_df = pd.concat([extractData(\"data/fall_22_nlp.json\"), extractData(\"data/spring_22_nlp.json\")])\n",
    "#print(final_df.to_string())\n",
    "#final_df"
   ]
  }
 ],
 "metadata": {
  "kernelspec": {
   "display_name": "Python 3",
   "language": "python",
   "name": "python3"
  },
  "language_info": {
   "codemirror_mode": {
    "name": "ipython",
    "version": 3
   },
   "file_extension": ".py",
   "mimetype": "text/x-python",
   "name": "python",
   "nbconvert_exporter": "python",
   "pygments_lexer": "ipython3",
   "version": "3.8.3"
  },
  "vscode": {
   "interpreter": {
    "hash": "aee8b7b246df8f9039afb4144a1f6fd8d2ca17a180786b69acc140d282b71a49"
   }
  }
 },
 "nbformat": 4,
 "nbformat_minor": 2
}
