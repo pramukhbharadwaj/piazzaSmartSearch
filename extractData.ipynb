{
  "cells": [
    {
      "cell_type": "code",
      "source": [
        "!pip install contractions"
      ],
      "metadata": {
        "id": "wE9mjZsU9WUI"
      },
      "execution_count": null,
      "outputs": []
    },
    {
      "cell_type": "code",
      "source": [
        "from google.colab import drive\n",
        "drive.mount('/content/drive')"
      ],
      "metadata": {
        "id": "HR4Xf9wd9jtg",
        "colab": {
          "base_uri": "https://localhost:8080/"
        },
        "outputId": "ae0ec945-3321-450f-8a12-f78693528b9c"
      },
      "execution_count": 2,
      "outputs": [
        {
          "output_type": "stream",
          "name": "stdout",
          "text": [
            "Mounted at /content/drive\n"
          ]
        }
      ]
    },
    {
      "cell_type": "code",
      "execution_count": 3,
      "metadata": {
        "id": "D0MQwKS-mIn7"
      },
      "outputs": [],
      "source": [
        "import json\n",
        "import time\n",
        "import datetime\n",
        "import dateutil.parser\n",
        "from datetime import datetime\n",
        "import pandas as pd\n",
        "from bs4 import BeautifulSoup\n",
        "import re\n",
        "import contractions"
      ]
    },
    {
      "cell_type": "code",
      "source": [
        "def getAnswerList(post):\n",
        "    answerList = []\n",
        "    if('children' in post):\n",
        "        postAnswers = post['children']\n",
        "        for postAnswer in postAnswers:\n",
        "            #whoAnswered = ''\n",
        "            answer = ''\n",
        "            if 'type' in postAnswer and 'history' in postAnswer and 'subject' not in postAnswer['history']:\n",
        "                whoAnswered = postAnswer['type']\n",
        "                #last_modified = postAnswer['history'][len(postAnswer['history']) - 1]\n",
        "                last_modified = getLastModified(postAnswer)\n",
        "                answer = last_modified['content']\n",
        "                answerToWhoAnswered = (answer, whoAnswered)\n",
        "                answerList.append(answerToWhoAnswered)\n",
        "            elif 'type' in postAnswer and 'followup' in postAnswer['type']:\n",
        "                question = postAnswer['subject']\n",
        "                whoAsked = 'followup_question'\n",
        "                questionToWhoAsked = (question, whoAsked)\n",
        "                answerList.append(questionToWhoAsked)\n",
        "                if 'children' in postAnswer:\n",
        "                    followup_question_answers = postAnswer['children']\n",
        "                    for i in range(0, len(followup_question_answers)):\n",
        "                        whoAnswered = followup_question_answers[i]['type']\n",
        "                        answer = followup_question_answers[i]['subject']\n",
        "                        answerToWhoAnswered = (answer, whoAnswered)\n",
        "                        answerList.append(answerToWhoAnswered)\n",
        "                        \n",
        "    return answerList\n",
        "\n",
        "def getLastModified(post):\n",
        "    history = post['history']\n",
        "    last_modified_answer = history[0]\n",
        "    last_modified_datetime = dateutil.parser.parse(history[0]['created'])\n",
        "    for i in range(0, len(history)):\n",
        "        post_datetime = dateutil.parser.parse(history[i]['created'])\n",
        "        if(post_datetime > last_modified_datetime):\n",
        "            last_modified_datetime = post_date\n",
        "            last_modified_answer = history[i]\n",
        "            \n",
        "    return last_modified_answer\n",
        "\n",
        "def extractData(filename):\n",
        "    with open(filename, 'r') as openfile:\n",
        "        input = json.load(openfile)\n",
        "        #print(input)\n",
        "        df = pd.DataFrame(columns = ['Post','Link','Sentence','WhoAnswered'])\n",
        "        for i in range(0, len(input)):\n",
        "            post = input[i]\n",
        "            if 'history' in post:\n",
        "                last_modified = getLastModified(post)\n",
        "                if 'subject' in last_modified and 'content' in last_modified:\n",
        "                    subject = last_modified['subject']\n",
        "                    content = last_modified['content']\n",
        "                    post_ID = post['nr']\n",
        "                    question_link = post['question_link']\n",
        "                    answerList = getAnswerList(input[i])\n",
        "                    df = df.append({'Post': post_ID, 'Link': question_link,'Sentence': subject + \".\" + content, 'WhoAnswered': 'question'}, ignore_index = True)  \n",
        "                    for i in range(0, len(answerList)):\n",
        "                        df = df.append({'Post': post_ID, 'Link': question_link,'Sentence': answerList[i][0], 'WhoAnswered': answerList[i][1]}, ignore_index = True)\n",
        "\n",
        "        return df\n",
        "\n",
        "#Removing all contractions\n",
        "def perform_contractions(series):\n",
        "    series = series.apply(lambda x: contractions.fix(x))\n",
        "    return series\n",
        "\n",
        "def data_cleaning(data):\n",
        "\n",
        "  #Convert to Lowercase\n",
        "  data[\"Sentence\"] = data[\"Sentence\"].str.lower()\n",
        "\n",
        "  #Remove all HTML tags\n",
        "  data[\"Sentence\"] = data[\"Sentence\"].apply(lambda x: BeautifulSoup(str(x)).get_text())\n",
        "\n",
        "  #Remove all URLs\n",
        "  data[\"Sentence\"] = data[\"Sentence\"].apply(lambda x: re.sub(r'\\s*(https?://|www\\.)+\\S+(\\s+|$)', \" \", str(x), flags=re.UNICODE))\n",
        "\n",
        "  #Remove extra spaces\n",
        "  data[\"Sentence\"] = data[\"Sentence\"].apply(lambda x: re.sub(r\"\\s+\", \" \", str(x), flags=re.UNICODE).strip())\n",
        "\n",
        "  x = perform_contractions(data[\"Sentence\"])\n",
        "  data[\"Sentence\"] = x\n",
        "\n",
        "  #Removing uppercase letters which might be introduced after removing contractions\n",
        "  data[\"Sentence\"] = data[\"Sentence\"].str.lower()\n",
        "\n",
        "  data = data.drop_duplicates()\n",
        "  data = data.reset_index(drop=True)\n",
        "  return data"
      ],
      "metadata": {
        "id": "2bhdxcyQ1xAG"
      },
      "execution_count": 6,
      "outputs": []
    },
    {
      "cell_type": "code",
      "source": [
        "#extract\n",
        "data = pd.concat([extractData(\"/content/drive/My Drive/CSCI 544 - Project/piazzaSmartSearch-main/Data/fall_22_nlp.json\"), extractData(\"/content/drive/My Drive/CSCI 544 - Project/piazzaSmartSearch-main/Data/spring_22_nlp.json\")])\n",
        "\n",
        "# Clean\n",
        "data = data_cleaning(data)"
      ],
      "metadata": {
        "id": "CK8Wp6Le2C8F"
      },
      "execution_count": 9,
      "outputs": []
    }
  ],
  "metadata": {
    "kernelspec": {
      "display_name": "Python 3 (ipykernel)",
      "language": "python",
      "name": "python3"
    },
    "language_info": {
      "codemirror_mode": {
        "name": "ipython",
        "version": 3
      },
      "file_extension": ".py",
      "mimetype": "text/x-python",
      "name": "python",
      "nbconvert_exporter": "python",
      "pygments_lexer": "ipython3",
      "version": "3.9.6"
    },
    "vscode": {
      "interpreter": {
        "hash": "aee8b7b246df8f9039afb4144a1f6fd8d2ca17a180786b69acc140d282b71a49"
      }
    },
    "colab": {
      "provenance": []
    }
  },
  "nbformat": 4,
  "nbformat_minor": 0
}