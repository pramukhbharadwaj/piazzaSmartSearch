{
 "cells": [
  {
   "cell_type": "code",
   "execution_count": 98,
   "metadata": {},
   "outputs": [
    {
     "name": "stdout",
     "output_type": "stream",
     "text": [
      "Requirement already satisfied: pytesseract in /Library/Frameworks/Python.framework/Versions/3.7/lib/python3.7/site-packages (0.3.10)\n",
      "Requirement already satisfied: Pillow>=8.0.0 in /Library/Frameworks/Python.framework/Versions/3.7/lib/python3.7/site-packages (from pytesseract) (9.3.0)\n",
      "Requirement already satisfied: packaging>=21.3 in /Users/vinay/Library/Python/3.7/lib/python/site-packages (from pytesseract) (21.3)\n",
      "Requirement already satisfied: pyparsing!=3.0.5,>=2.0.2 in /Users/vinay/Library/Python/3.7/lib/python/site-packages (from packaging>=21.3->pytesseract) (3.0.9)\n",
      "\n",
      "\u001b[1m[\u001b[0m\u001b[34;49mnotice\u001b[0m\u001b[1;39;49m]\u001b[0m\u001b[39;49m A new release of pip available: \u001b[0m\u001b[31;49m22.2.2\u001b[0m\u001b[39;49m -> \u001b[0m\u001b[32;49m22.3.1\u001b[0m\n",
      "\u001b[1m[\u001b[0m\u001b[34;49mnotice\u001b[0m\u001b[1;39;49m]\u001b[0m\u001b[39;49m To update, run: \u001b[0m\u001b[32;49mpython3 -m pip install --upgrade pip\u001b[0m\n",
      "Requirement already satisfied: bs4 in /Library/Frameworks/Python.framework/Versions/3.7/lib/python3.7/site-packages (0.0.1)\n",
      "Requirement already satisfied: beautifulsoup4 in /Library/Frameworks/Python.framework/Versions/3.7/lib/python3.7/site-packages (from bs4) (4.11.1)\n",
      "Requirement already satisfied: soupsieve>1.2 in /Library/Frameworks/Python.framework/Versions/3.7/lib/python3.7/site-packages (from beautifulsoup4->bs4) (2.3.2.post1)\n",
      "\n",
      "\u001b[1m[\u001b[0m\u001b[34;49mnotice\u001b[0m\u001b[1;39;49m]\u001b[0m\u001b[39;49m A new release of pip available: \u001b[0m\u001b[31;49m22.2.2\u001b[0m\u001b[39;49m -> \u001b[0m\u001b[32;49m22.3.1\u001b[0m\n",
      "\u001b[1m[\u001b[0m\u001b[34;49mnotice\u001b[0m\u001b[1;39;49m]\u001b[0m\u001b[39;49m To update, run: \u001b[0m\u001b[32;49mpython3 -m pip install --upgrade pip\u001b[0m\n"
     ]
    }
   ],
   "source": [
    "!python3 -m pip install pytesseract\n",
    "!python3 -m pip install bs4"
   ]
  },
  {
   "cell_type": "code",
   "execution_count": 2,
   "metadata": {},
   "outputs": [],
   "source": [
    "from piazza_api import Piazza\n",
    "import json\n",
    "import time\n",
    "from collections import defaultdict\n",
    "\n",
    "#Imports for OCR\n",
    "import pytesseract\n",
    "import io\n",
    "import requests\n",
    "from bs4 import BeautifulSoup\n",
    "try:\n",
    "    from PIL import Image\n",
    "except ImportError:\n",
    "    import Image\n"
   ]
  },
  {
   "cell_type": "code",
   "execution_count": 3,
   "metadata": {},
   "outputs": [],
   "source": [
    "p = Piazza()\n",
    "p.user_login()"
   ]
  },
  {
   "cell_type": "code",
   "execution_count": 4,
   "metadata": {},
   "outputs": [],
   "source": [
    "user_profile = p.get_user_profile()"
   ]
  },
  {
   "cell_type": "code",
   "execution_count": 5,
   "metadata": {},
   "outputs": [
    {
     "data": {
      "text/plain": [
       "{'spring_2022_nlp': 'ky7ls2h92kpwe', 'fall_2022_nlp': 'l7102doc7aa3ob'}"
      ]
     },
     "execution_count": 5,
     "metadata": {},
     "output_type": "execute_result"
    }
   ],
   "source": [
    "course_key_dict = {}\n",
    "course_key_dict['spring_2022_nlp'] = 'ky7ls2h92kpwe'\n",
    "course_key_dict['fall_2022_nlp'] = 'l7102doc7aa3ob'\n",
    "course_key_dict"
   ]
  },
  {
   "cell_type": "code",
   "execution_count": 6,
   "metadata": {},
   "outputs": [],
   "source": [
    "regular_posts = defaultdict(list)\n",
    "image_posts = defaultdict(list)"
   ]
  },
  {
   "cell_type": "code",
   "execution_count": 7,
   "metadata": {},
   "outputs": [],
   "source": [
    "def get_posts(key, post_ids, mapper=None, **kwargs):\n",
    "    all_posts = []\n",
    "    if key in course_key_dict:\n",
    "        #get course\n",
    "        course = p.network(course_key_dict[key])\n",
    "\n",
    "        #get post from course object\n",
    "        for i in range(len(post_ids)):\n",
    "            try:\n",
    "                post = course.get_post(post_ids[i])\n",
    "                all_posts.append(post)\n",
    "                time.sleep(2)\n",
    "            except Exception as e:\n",
    "                print(\"Error \", i, e)\n",
    "        \n",
    "\n",
    "        #map the post if required\n",
    "        if mapper:\n",
    "            all_posts = [mapper(post, **kwargs) for post in all_posts]\n",
    "        \n",
    "    return all_posts"
   ]
  },
  {
   "cell_type": "code",
   "execution_count": 8,
   "metadata": {},
   "outputs": [],
   "source": [
    "def image_to_string(url):\n",
    "    response = requests.get(url)\n",
    "    img = Image.open(io.BytesIO(response.content))\n",
    "    extractedInformation = pytesseract.image_to_string(img)\n",
    "    return extractedInformation\n",
    "\n",
    "def get_image_urls(html):\n",
    "    urls = []\n",
    "    soup = BeautifulSoup(html)\n",
    "    for link in soup.findAll('img'):\n",
    "        urls.append(link.get('src'))\n",
    "    return urls\n",
    "\n",
    "def add_question_link(post, **kwargs):\n",
    "    if post and 'course_name' in kwargs and kwargs['course_name'] in course_key_dict:\n",
    "        post['question_link'] = \"https://piazza.com/class/\" + course_key_dict[kwargs['course_name']] + \"/post/\" + str(post['nr'])\n",
    "    #\"question_link\": \"https://piazza.com/class/l7102doc7aa3ob/post/689\"\n",
    "    return post\n",
    "\n",
    "\n",
    "\n",
    "def image_to_question(post, **kwargs):\n",
    "    add_question_link(post, **kwargs)\n",
    "    for history in post['history']:\n",
    "        urls = get_image_urls(history['content'])\n",
    "        urls = [\"https://piazza.com\" + x for x in urls]\n",
    "    \n",
    "        questions = []\n",
    "        for i in range(len(urls)):\n",
    "            questions.append(image_to_string(urls[i]))\n",
    "    \n",
    "        question_string = \"\\n\".join(questions)\n",
    "        history['content_orig'] = history['content']\n",
    "        history['content'] = question_string\n",
    "    \n",
    "    return post\n",
    "\n",
    "def write_to_file(posts, file_name):\n",
    "    def obj_dict(obj):\n",
    "        return obj.__dict__\n",
    "    json_string = json.dumps(posts, indent=4)\n",
    "    f = open('data/' + file_name + '.json', 'wb')\n",
    "    f.write(json_string.encode())\n"
   ]
  },
  {
   "cell_type": "code",
   "execution_count": 12,
   "metadata": {},
   "outputs": [],
   "source": [
    "regular_posts['spring_2022_nlp'] = [871,870,868,594,590,576,570,544,487,382,268,255,251,243,103,54,18]\n",
    "regular_posts['fall_2022_nlp'] = [689,663,638,608,593,579,541,536,589,529,528,511,506,497,490,484,443,348,254,245,241,227,85,84,79,58,39,20,22,37,86,101,116,317,347,358,362]\n",
    "\n",
    "image_posts['spring_2022_nlp'] =  [871, 870, 868, 861]\n",
    "image_posts['fall_2022_nlp'] = [627]"
   ]
  },
  {
   "cell_type": "code",
   "execution_count": 13,
   "metadata": {},
   "outputs": [
    {
     "data": {
      "text/plain": [
       "defaultdict(list,\n",
       "            {'spring_2022_nlp': [871,\n",
       "              870,\n",
       "              868,\n",
       "              594,\n",
       "              590,\n",
       "              576,\n",
       "              570,\n",
       "              544,\n",
       "              487,\n",
       "              382,\n",
       "              268,\n",
       "              255,\n",
       "              251,\n",
       "              243,\n",
       "              103,\n",
       "              54,\n",
       "              18],\n",
       "             'fall_2022_nlp': [689,\n",
       "              663,\n",
       "              638,\n",
       "              608,\n",
       "              593,\n",
       "              579,\n",
       "              541,\n",
       "              536,\n",
       "              589,\n",
       "              529,\n",
       "              528,\n",
       "              511,\n",
       "              506,\n",
       "              497,\n",
       "              490,\n",
       "              484,\n",
       "              443,\n",
       "              348,\n",
       "              254,\n",
       "              245,\n",
       "              241,\n",
       "              227,\n",
       "              85,\n",
       "              84,\n",
       "              79,\n",
       "              58,\n",
       "              39,\n",
       "              20,\n",
       "              22,\n",
       "              37,\n",
       "              86,\n",
       "              101,\n",
       "              116,\n",
       "              317,\n",
       "              347,\n",
       "              358,\n",
       "              362]})"
      ]
     },
     "execution_count": 13,
     "metadata": {},
     "output_type": "execute_result"
    }
   ],
   "source": [
    "regular_posts"
   ]
  },
  {
   "cell_type": "code",
   "execution_count": 10,
   "metadata": {},
   "outputs": [],
   "source": [
    "for key, val in image_posts.items():\n",
    "    posts = get_posts(key, val, image_to_question, course_name=key)\n",
    "    write_to_file(posts, 'image_' + key)"
   ]
  },
  {
   "cell_type": "code",
   "execution_count": 14,
   "metadata": {},
   "outputs": [],
   "source": [
    "for key, val in regular_posts.items():\n",
    "    posts = get_posts(key, val, add_question_link, course_name=key)\n",
    "    write_to_file(posts, key)"
   ]
  },
  {
   "cell_type": "code",
   "execution_count": null,
   "metadata": {},
   "outputs": [],
   "source": []
  }
 ],
 "metadata": {
  "kernelspec": {
   "display_name": "Python 3.7.9 64-bit",
   "language": "python",
   "name": "python3"
  },
  "language_info": {
   "codemirror_mode": {
    "name": "ipython",
    "version": 3
   },
   "file_extension": ".py",
   "mimetype": "text/x-python",
   "name": "python",
   "nbconvert_exporter": "python",
   "pygments_lexer": "ipython3",
   "version": "3.7.9"
  },
  "orig_nbformat": 4,
  "vscode": {
   "interpreter": {
    "hash": "aee8b7b246df8f9039afb4144a1f6fd8d2ca17a180786b69acc140d282b71a49"
   }
  }
 },
 "nbformat": 4,
 "nbformat_minor": 2
}
